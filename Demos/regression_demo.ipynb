{
 "cells": [
  {
   "cell_type": "code",
   "execution_count": 1,
   "metadata": {},
   "outputs": [],
   "source": [
    "import sys\n",
    "# In case you run this without installing the package, you need to add the path to the package\n",
    "\n",
    "# This is for launching from root folder path\n",
    "sys.path.append('./ex_fuzzy/')\n",
    "sys.path.append('./ex_fuzzy/ex_fuzzy/')\n",
    "\n",
    "# This is for launching from Demos folder\n",
    "sys.path.append('../ex_fuzzy/')\n",
    "sys.path.append('../ex_fuzzy/ex_fuzzy/')\n",
    "\n",
    "import numpy as np\n",
    "\n",
    "import ex_fuzzy.fuzzy_sets as t2\n",
    "import ex_fuzzy.rules as rules"
   ]
  },
  {
   "cell_type": "code",
   "execution_count": 2,
   "metadata": {},
   "outputs": [],
   "source": [
    "# Define the fuzzy sets\n",
    "food_rancid_lower = [0, 0, 0.5, 4.5]\n",
    "food_rancid_upper = [0, 0, 1, 5]\n",
    "food_delicious_lower = [4.5, 8.5, 9, 9]\n",
    "food_delicious_upper = [4, 8, 9, 9]\n",
    "\n",
    "food_rancid = t2.IVFS('Rancid', food_rancid_lower, food_rancid_upper, [0,9])\n",
    "food_delicious = t2.IVFS('Delicious', food_delicious_lower, food_delicious_upper, [0,9])"
   ]
  },
  {
   "cell_type": "code",
   "execution_count": 3,
   "metadata": {},
   "outputs": [],
   "source": [
    "#Use the fuzzy sets to define a fuzzy variable with its linguistic partitions.\n",
    "food = t2.fuzzyVariable('Food', [food_rancid, food_delicious])\n",
    "\n",
    "service_poor_lower = [0, 0, 0.5, 2.5]\n",
    "service_poor_upper = [0, 0, 1, 3]\n",
    "service_good_lower = [1.5, 3.5, 4.5, 6.5]\n",
    "service_good_upper = [1, 3, 5, 7]\n",
    "service_excellent_lower = [5.5, 7.5, 9, 9]\n",
    "service_excellent_upper = [5, 7, 9, 9]\n",
    "\n",
    "service_poor = t2.IVFS('Poor', service_poor_lower, service_poor_upper, [0,9])\n",
    "service_good = t2.IVFS('Good', service_good_lower, service_good_upper, [0,9])\n",
    "service_excellent = t2.IVFS('Excellent', service_excellent_lower, service_excellent_upper, [0,9])\n",
    "\n",
    "service = t2.fuzzyVariable('Service', [service_poor, service_good, service_excellent])"
   ]
  },
  {
   "cell_type": "code",
   "execution_count": 4,
   "metadata": {},
   "outputs": [],
   "source": [
    "tip_cheap_lower = [2, 6, 6, 10]\n",
    "tip_cheap_upper = [0, 6, 6, 12]\n",
    "tip_average_lower = [12, 15, 15, 18]\n",
    "tip_average_upper = [10, 15, 15, 20]\n",
    "tip_genereous_lower = [20, 24, 24, 28]\n",
    "tip_generous_upper = [18, 24, 24, 30]\n",
    "\n",
    "tip_cheap = t2.IVFS('Cheap', tip_cheap_lower, tip_cheap_upper, [0,30])\n",
    "tip_average = t2.IVFS('Average', tip_average_lower, tip_average_upper, [0,30])\n",
    "tip_genereous = t2.IVFS('Generous', tip_genereous_lower, tip_generous_upper, [0,30])\n",
    "\n",
    "tip = t2.fuzzyVariable('Tip', [tip_cheap, tip_average, tip_genereous])"
   ]
  },
  {
   "cell_type": "code",
   "execution_count": 5,
   "metadata": {},
   "outputs": [],
   "source": [
    "rule_list =[\n",
    "    rules.RuleSimple([0, 0], 0),\n",
    "    rules.RuleSimple([0, 1], 0),\n",
    "    rules.RuleSimple([0, 2], 1),\n",
    "    rules.RuleSimple([1, 0], 1),\n",
    "    rules.RuleSimple([1, 1], 1),\n",
    "    rules.RuleSimple([1, 2], 2)\n",
    "]\n",
    "\n",
    "inference_module = rules.RuleBaseT2([food, service], rule_list, tip)"
   ]
  },
  {
   "cell_type": "code",
   "execution_count": 7,
   "metadata": {},
   "outputs": [
    {
     "name": "stdout",
     "output_type": "stream",
     "text": [
      "[[6. 6.]]\n"
     ]
    }
   ],
   "source": [
    "input = np.array([4,2.5]).reshape((1,2))\n",
    "print(inference_module.inference(input))"
   ]
  }
 ],
 "metadata": {
  "kernelspec": {
   "display_name": "datasci",
   "language": "python",
   "name": "python3"
  },
  "language_info": {
   "codemirror_mode": {
    "name": "ipython",
    "version": 3
   },
   "file_extension": ".py",
   "mimetype": "text/x-python",
   "name": "python",
   "nbconvert_exporter": "python",
   "pygments_lexer": "ipython3",
   "version": "3.11.3"
  }
 },
 "nbformat": 4,
 "nbformat_minor": 2
}
