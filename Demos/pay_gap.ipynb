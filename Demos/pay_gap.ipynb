{
 "cells": [
  {
   "cell_type": "code",
   "execution_count": 4,
   "metadata": {},
   "outputs": [],
   "source": [
    "import pandas as pd\n",
    "import random\n",
    "import sys\n",
    "# In case you run this without installing the package, you need to add the path to the package\n",
    "# This is for launching from root folder path\n",
    "sys.path.append('./ex_fuzzy/')\n",
    "sys.path.append('./ex_fuzzy/ex_fuzzy/')\n",
    "# This is for launching from Demos folder\n",
    "sys.path.append('../ex_fuzzy/')\n",
    "sys.path.append('../ex_fuzzy/ex_fuzzy/')"
   ]
  },
  {
   "cell_type": "code",
   "execution_count": 5,
   "metadata": {},
   "outputs": [],
   "source": [
    "import ex_fuzzy.fuzzy_sets as fs\n",
    "import ex_fuzzy.evolutionary_fit as GA\n",
    "import ex_fuzzy.utils as  utils\n",
    "import ex_fuzzy.eval_tools as eval_tools\n",
    "import ex_fuzzy.pattern_stability as pattern_stability\n",
    "\n",
    "from sklearn import datasets\n",
    "from sklearn.model_selection import train_test_split"
   ]
  },
  {
   "cell_type": "code",
   "execution_count": 6,
   "metadata": {},
   "outputs": [
    {
     "data": {
      "text/plain": [
       "'c:\\\\Users\\\\javi-\\\\OneDrive\\\\Documentos\\\\GitHub\\\\ex-fuzzy\\\\Demos'"
      ]
     },
     "execution_count": 6,
     "metadata": {},
     "output_type": "execute_result"
    }
   ],
   "source": [
    "import os\n",
    "os.getcwd()"
   ]
  },
  {
   "cell_type": "code",
   "execution_count": null,
   "metadata": {},
   "outputs": [
    {
     "data": {
      "text/html": [
       "<div>\n",
       "<style scoped>\n",
       "    .dataframe tbody tr th:only-of-type {\n",
       "        vertical-align: middle;\n",
       "    }\n",
       "\n",
       "    .dataframe tbody tr th {\n",
       "        vertical-align: top;\n",
       "    }\n",
       "\n",
       "    .dataframe thead th {\n",
       "        text-align: right;\n",
       "    }\n",
       "</style>\n",
       "<table border=\"1\" class=\"dataframe\">\n",
       "  <thead>\n",
       "    <tr style=\"text-align: right;\">\n",
       "      <th></th>\n",
       "      <th>JobTitle</th>\n",
       "      <th>Gender</th>\n",
       "      <th>Age</th>\n",
       "      <th>PerfEval</th>\n",
       "      <th>Education</th>\n",
       "      <th>Dept</th>\n",
       "      <th>Seniority</th>\n",
       "      <th>BasePay</th>\n",
       "      <th>Bonus</th>\n",
       "    </tr>\n",
       "  </thead>\n",
       "  <tbody>\n",
       "    <tr>\n",
       "      <th>0</th>\n",
       "      <td>Graphic Designer</td>\n",
       "      <td>Female</td>\n",
       "      <td>18</td>\n",
       "      <td>5</td>\n",
       "      <td>College</td>\n",
       "      <td>Operations</td>\n",
       "      <td>2</td>\n",
       "      <td>42363</td>\n",
       "      <td>9938</td>\n",
       "    </tr>\n",
       "    <tr>\n",
       "      <th>1</th>\n",
       "      <td>Software Engineer</td>\n",
       "      <td>Male</td>\n",
       "      <td>21</td>\n",
       "      <td>5</td>\n",
       "      <td>College</td>\n",
       "      <td>Management</td>\n",
       "      <td>5</td>\n",
       "      <td>108476</td>\n",
       "      <td>11128</td>\n",
       "    </tr>\n",
       "    <tr>\n",
       "      <th>2</th>\n",
       "      <td>Warehouse Associate</td>\n",
       "      <td>Female</td>\n",
       "      <td>19</td>\n",
       "      <td>4</td>\n",
       "      <td>PhD</td>\n",
       "      <td>Administration</td>\n",
       "      <td>5</td>\n",
       "      <td>90208</td>\n",
       "      <td>9268</td>\n",
       "    </tr>\n",
       "    <tr>\n",
       "      <th>3</th>\n",
       "      <td>Software Engineer</td>\n",
       "      <td>Male</td>\n",
       "      <td>20</td>\n",
       "      <td>5</td>\n",
       "      <td>Masters</td>\n",
       "      <td>Sales</td>\n",
       "      <td>4</td>\n",
       "      <td>108080</td>\n",
       "      <td>10154</td>\n",
       "    </tr>\n",
       "    <tr>\n",
       "      <th>4</th>\n",
       "      <td>Graphic Designer</td>\n",
       "      <td>Male</td>\n",
       "      <td>26</td>\n",
       "      <td>5</td>\n",
       "      <td>Masters</td>\n",
       "      <td>Engineering</td>\n",
       "      <td>5</td>\n",
       "      <td>99464</td>\n",
       "      <td>9319</td>\n",
       "    </tr>\n",
       "  </tbody>\n",
       "</table>\n",
       "</div>"
      ],
      "text/plain": [
       "              JobTitle  Gender  Age  PerfEval Education            Dept   \n",
       "0     Graphic Designer  Female   18         5   College      Operations  \\\n",
       "1    Software Engineer    Male   21         5   College      Management   \n",
       "2  Warehouse Associate  Female   19         4       PhD  Administration   \n",
       "3    Software Engineer    Male   20         5   Masters           Sales   \n",
       "4     Graphic Designer    Male   26         5   Masters     Engineering   \n",
       "\n",
       "   Seniority  BasePay  Bonus  \n",
       "0          2    42363   9938  \n",
       "1          5   108476  11128  \n",
       "2          5    90208   9268  \n",
       "3          4   108080  10154  \n",
       "4          5    99464   9319  "
      ]
     },
     "execution_count": 7,
     "metadata": {},
     "output_type": "execute_result"
    }
   ],
   "source": [
    "# Data taken from: https://www.kaggle.com/datasets/nilimajauhari/glassdoor-analyze-gender-pay-gap\n",
    "df = pd.read_csv('./paygap data/pay_gap.csv')\n",
    "df.head()"
   ]
  },
  {
   "cell_type": "code",
   "execution_count": 8,
   "metadata": {},
   "outputs": [],
   "source": [
    "X = df.drop(columns=['Gender'])\n",
    "y = df['Gender']"
   ]
  },
  {
   "cell_type": "code",
   "execution_count": 9,
   "metadata": {},
   "outputs": [
    {
     "name": "stdout",
     "output_type": "stream",
     "text": [
      "Column 'JobTitle' unique classes: ['Graphic Designer', 'Software Engineer', 'Warehouse Associate', 'IT', 'Sales Associate', 'Driver', 'Financial Analyst', 'Marketing Associate', 'Data Scientist', 'Manager']\n",
      "Column 'Education' unique classes: ['College', 'PhD', 'Masters', 'High School']\n",
      "Column 'Dept' unique classes: ['Operations', 'Management', 'Administration', 'Sales', 'Engineering']\n"
     ]
    }
   ],
   "source": [
    "# Factorize all object-type variables\n",
    "import numpy as np\n",
    "\n",
    "categorical_mask = np.zeros(X.shape[1], dtype=int)\n",
    "for i, column in enumerate(X.columns):\n",
    "    if X[column].dtype == 'object':\n",
    "        _, unique_classes = pd.factorize(X[column])\n",
    "        categorical_mask[i] = len(unique_classes)\n",
    "        print(f\"Column '{column}' unique classes: {unique_classes.tolist()}\")\n",
    "\n",
    "random.seed(2024)\n",
    "X_train, X_test, y_train, y_test = train_test_split(X, y, test_size=0.33, random_state=0)"
   ]
  },
  {
   "cell_type": "code",
   "execution_count": 10,
   "metadata": {},
   "outputs": [],
   "source": [
    "fz_type_studied = fs.FUZZY_SETS.t1  # T1 fuzzy sets\n",
    "n_linguistic_variables = 3  # Define the number of linguistic variables\n",
    "precomputed_partitions = utils.construct_partitions(X, fz_type_studied, n_partitions=n_linguistic_variables, categorical_mask=categorical_mask)\n",
    "\n",
    "n_gen = 5\n",
    "n_pop = 30\n",
    "n_rules = 20"
   ]
  },
  {
   "cell_type": "code",
   "execution_count": 11,
   "metadata": {},
   "outputs": [
    {
     "name": "stdout",
     "output_type": "stream",
     "text": [
      "=================================================\n",
      "n_gen  |  n_eval  |     f_avg     |     f_min    \n",
      "=================================================\n",
      "     1 |       30 |  0.9972697353 |  0.9015408163\n",
      "     2 |       60 |  0.9468143667 |  0.8726202543\n",
      "     3 |       90 |  0.9096668080 |  0.8726202543\n",
      "     4 |      120 |  0.8874699274 |  0.8726202543\n",
      "     5 |      150 |  0.8725060685 |  0.8145481170\n",
      "------------\n",
      "ACCURACY\n",
      "Train performance: 0.5074626865671642\n",
      "Test performance: 0.47575757575757577\n",
      "------------\n",
      "MATTHEW CORRCOEF\n",
      "Train performance: 0.18545188302395502\n",
      "Test performance: 0.0675264356106885\n",
      "------------\n",
      "Rules for consequent: Female\n",
      "----------------\n",
      "IF Age IS Medium AND Dept IS Engineering WITH DS 0.02070060147026064, ACC 0.47755834829443444, WGHT 1.0\n",
      "IF Age IS Medium AND Education IS High School WITH DS 0.030314101136110494, ACC 0.5568181818181818, WGHT 1.0\n",
      "\n",
      "Rules for consequent: Male\n",
      "----------------\n",
      "IF JobTitle IS Software Engineer AND Age IS Medium WITH DS 0.017951659612385828, ACC 1.0, WGHT 1.0\n",
      "\n",
      "\n"
     ]
    }
   ],
   "source": [
    "# Train the fuzzy rules classifier\n",
    "fl_classifier = GA.BaseFuzzyRulesClassifier(nRules=n_rules, \n",
    "                                           linguistic_variables=precomputed_partitions,\n",
    "                                            #linguistic_variables = None,\n",
    "                                           nAnts=3, \n",
    "                                           n_linguistic_variables=n_linguistic_variables, \n",
    "                                           fuzzy_type=fz_type_studied, \n",
    "                                           verbose=True, \n",
    "                                           tolerance=0.01, \n",
    "                                           runner=1, \n",
    "                                           ds_mode=1,\n",
    "                                            #allow_unknown=True,\n",
    "                                           fuzzy_modifiers=False)\n",
    "\n",
    "fl_classifier.fit(X_train, y_train, n_gen=n_gen, pop_size=n_pop)\n",
    "\n",
    "rule_base = fl_classifier.get_rulebase()\n",
    "fl_evaluator = eval_tools.FuzzyEvaluator(fl_classifier)\n",
    "str_rules = fl_evaluator.eval_fuzzy_model(X_train, y_train, X_test, y_test, \n",
    "                        plot_rules=False, print_rules=True, plot_partitions=False, return_rules=False)"
   ]
  }
 ],
 "metadata": {
  "kernelspec": {
   "display_name": "maps",
   "language": "python",
   "name": "python3"
  },
  "language_info": {
   "codemirror_mode": {
    "name": "ipython",
    "version": 3
   },
   "file_extension": ".py",
   "mimetype": "text/x-python",
   "name": "python",
   "nbconvert_exporter": "python",
   "pygments_lexer": "ipython3",
   "version": "3.11.3"
  }
 },
 "nbformat": 4,
 "nbformat_minor": 2
}
