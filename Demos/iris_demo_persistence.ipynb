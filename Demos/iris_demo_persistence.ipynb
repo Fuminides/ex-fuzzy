{
 "cells": [
  {
   "cell_type": "code",
   "execution_count": 1,
   "metadata": {},
   "outputs": [],
   "source": [
    "import pandas as pd\n",
    "\n",
    "from sklearn import datasets\n",
    "from sklearn.model_selection import train_test_split\n",
    "\n",
    "import sys\n",
    "\n",
    "# In case you run this without installing the package, you need to add the path to the package\n",
    "\n",
    "# This is for launching from root folder path\n",
    "sys.path.append('./ex_fuzzy/')\n",
    "sys.path.append('./ex_fuzzy/ex_fuzzy/')\n",
    "\n",
    "# This is for launching from Demos folder\n",
    "sys.path.append('../ex_fuzzy/')\n",
    "sys.path.append('../ex_fuzzy/ex_fuzzy/')\n",
    "\n",
    "import ex_fuzzy.fuzzy_sets as fs\n",
    "import ex_fuzzy.evolutionary_fit as GA\n",
    "import ex_fuzzy.utils as  utils\n",
    "import ex_fuzzy.eval_tools as eval_tools\n",
    "import ex_fuzzy.persistence as persistence\n",
    "import ex_fuzzy.vis_rules as vis_rules"
   ]
  },
  {
   "cell_type": "code",
   "execution_count": 2,
   "metadata": {},
   "outputs": [],
   "source": [
    "# Import some data to play with\n",
    "iris = datasets.load_iris()\n",
    "X = pd.DataFrame(iris.data, columns=iris.feature_names)\n",
    "y = iris.target\n",
    "\n",
    "# Split the data into a training set and a test set\n",
    "X_train, X_test, y_train, y_test = train_test_split(X, y, test_size=0.33, random_state=0)"
   ]
  },
  {
   "cell_type": "code",
   "execution_count": 3,
   "metadata": {},
   "outputs": [],
   "source": [
    "fz_type_studied = fs.FUZZY_SETS.t1\n",
    "\n",
    "# Compute the fuzzy partitions using 3 quartiles\n",
    "precomputed_partitions = utils.construct_partitions(X, fz_type_studied)"
   ]
  },
  {
   "cell_type": "code",
   "execution_count": 4,
   "metadata": {},
   "outputs": [
    {
     "name": "stdout",
     "output_type": "stream",
     "text": [
      "------------\n",
      "ACCURACY\n",
      "Train performance: 0.43\n",
      "Test performance: 0.38\n",
      "------------\n",
      "MATTHEW CORRCOEF\n",
      "Train performance: 0.2338660569700996\n",
      "Test performance: 0.19443889483790064\n",
      "------------\n",
      "Rules for consequent: 0\n",
      "----------------\n",
      "IF sepal width (cm) IS Low AND petal length (cm) IS Low WITH DS 0.09820899916055961, ACC 1.0\n",
      "IF sepal width (cm) IS Medium AND petal length (cm) IS Low WITH DS 0.2764485541651059, ACC 1.0\n",
      "\n",
      "Rules for consequent: 1\n",
      "----------------\n",
      "IF petal length (cm) IS High WITH DS 0.13319956798109123, ACC 1.0\n",
      "\n",
      "Rules for consequent: 2\n",
      "----------------\n",
      "IF sepal length (cm) IS Low AND sepal width (cm) IS Low WITH DS 0.48524675320821914, ACC 0.3953488372093023\n",
      "\n",
      "\n"
     ]
    }
   ],
   "source": [
    "fl_classifier = GA.BaseFuzzyRulesClassifier()\n",
    "fl_classifier.fit(X_train, y_train)\n",
    "\n",
    "str_rules = eval_tools.eval_fuzzy_model(fl_classifier, X_train, y_train, X_test, y_test, \n",
    "                        plot_rules=False, print_rules=True, plot_partitions=False, return_rules=True)\n",
    "\n",
    "with open('iris_rules.txt', 'w') as f:\n",
    "    f.write(str_rules)"
   ]
  },
  {
   "cell_type": "code",
   "execution_count": 6,
   "metadata": {},
   "outputs": [
    {
     "ename": "TypeError",
     "evalue": "'NoneType' object is not iterable",
     "output_type": "error",
     "traceback": [
      "\u001b[1;31m---------------------------------------------------------------------------\u001b[0m",
      "\u001b[1;31mTypeError\u001b[0m                                 Traceback (most recent call last)",
      "Cell \u001b[1;32mIn[6], line 11\u001b[0m\n\u001b[0;32m      8\u001b[0m fl_classifier2 \u001b[38;5;241m=\u001b[39m GA\u001b[38;5;241m.\u001b[39mBaseFuzzyRulesClassifier(precomputed_rules\u001b[38;5;241m=\u001b[39mmrule_base)\n\u001b[0;32m      9\u001b[0m fl_classifier2\u001b[38;5;241m.\u001b[39mload_master_rule_base(mrule_base) \u001b[38;5;66;03m# (Another possibility)\u001b[39;00m\n\u001b[1;32m---> 11\u001b[0m str_rules \u001b[38;5;241m=\u001b[39m eval_tools\u001b[38;5;241m.\u001b[39meval_fuzzy_model(fl_classifier2, X_train, y_train, X_test, y_test, \n\u001b[0;32m     12\u001b[0m                         plot_rules\u001b[38;5;241m=\u001b[39m\u001b[38;5;28;01mTrue\u001b[39;00m, print_rules\u001b[38;5;241m=\u001b[39m\u001b[38;5;28;01mTrue\u001b[39;00m, plot_partitions\u001b[38;5;241m=\u001b[39m\u001b[38;5;28;01mTrue\u001b[39;00m, return_rules\u001b[38;5;241m=\u001b[39m\u001b[38;5;28;01mTrue\u001b[39;00m)\n",
      "File \u001b[1;32mc:\\Users\\javi-\\anaconda3\\envs\\datasci\\Lib\\site-packages\\ex_fuzzy\\eval_tools.py:35\u001b[0m, in \u001b[0;36meval_fuzzy_model\u001b[1;34m(fl_classifier, X_train, y_train, X_test, y_test, plot_rules, print_rules, plot_partitions, return_rules, print_accuracy, print_matthew)\u001b[0m\n\u001b[0;32m     33\u001b[0m unique_classes \u001b[38;5;241m=\u001b[39m fl_classifier\u001b[38;5;241m.\u001b[39mclasses_\n\u001b[0;32m     34\u001b[0m \u001b[38;5;66;03m# Convert the names from the labels to the corresponding class\u001b[39;00m\n\u001b[1;32m---> 35\u001b[0m y_train \u001b[38;5;241m=\u001b[39m np\u001b[38;5;241m.\u001b[39marray([\u001b[38;5;28mlist\u001b[39m(unique_classes)\u001b[38;5;241m.\u001b[39mindex(\u001b[38;5;28mstr\u001b[39m(y)) \u001b[38;5;28;01mfor\u001b[39;00m y \u001b[38;5;129;01min\u001b[39;00m y_train])\n\u001b[0;32m     36\u001b[0m y_test \u001b[38;5;241m=\u001b[39m np\u001b[38;5;241m.\u001b[39marray([\u001b[38;5;28mlist\u001b[39m(unique_classes)\u001b[38;5;241m.\u001b[39mindex(\u001b[38;5;28mstr\u001b[39m(y)) \u001b[38;5;28;01mfor\u001b[39;00m y \u001b[38;5;129;01min\u001b[39;00m y_test])\n\u001b[0;32m     38\u001b[0m \u001b[38;5;28;01mif\u001b[39;00m print_accuracy:\n",
      "File \u001b[1;32mc:\\Users\\javi-\\anaconda3\\envs\\datasci\\Lib\\site-packages\\ex_fuzzy\\eval_tools.py:35\u001b[0m, in \u001b[0;36m<listcomp>\u001b[1;34m(.0)\u001b[0m\n\u001b[0;32m     33\u001b[0m unique_classes \u001b[38;5;241m=\u001b[39m fl_classifier\u001b[38;5;241m.\u001b[39mclasses_\n\u001b[0;32m     34\u001b[0m \u001b[38;5;66;03m# Convert the names from the labels to the corresponding class\u001b[39;00m\n\u001b[1;32m---> 35\u001b[0m y_train \u001b[38;5;241m=\u001b[39m np\u001b[38;5;241m.\u001b[39marray([\u001b[38;5;28mlist\u001b[39m(unique_classes)\u001b[38;5;241m.\u001b[39mindex(\u001b[38;5;28mstr\u001b[39m(y)) \u001b[38;5;28;01mfor\u001b[39;00m y \u001b[38;5;129;01min\u001b[39;00m y_train])\n\u001b[0;32m     36\u001b[0m y_test \u001b[38;5;241m=\u001b[39m np\u001b[38;5;241m.\u001b[39marray([\u001b[38;5;28mlist\u001b[39m(unique_classes)\u001b[38;5;241m.\u001b[39mindex(\u001b[38;5;28mstr\u001b[39m(y)) \u001b[38;5;28;01mfor\u001b[39;00m y \u001b[38;5;129;01min\u001b[39;00m y_test])\n\u001b[0;32m     38\u001b[0m \u001b[38;5;28;01mif\u001b[39;00m print_accuracy:\n",
      "\u001b[1;31mTypeError\u001b[0m: 'NoneType' object is not iterable"
     ]
    }
   ],
   "source": [
    "# Load rules from a plain text file\n",
    "with open('iris_rules.txt', 'r') as f:\n",
    "    str_rules = f.read()\n",
    "\n",
    "# Persistence of the rules example\n",
    "mrule_base = persistence.load_fuzzy_rules(str_rules, precomputed_partitions)\n",
    "\n",
    "fl_classifier2 = GA.BaseFuzzyRulesClassifier(precomputed_rules=mrule_base)\n",
    "# fl_classifier2.load_master_rule_base(mrule_base) # (Another possibility)\n",
    "\n",
    "str_rules = eval_tools.eval_fuzzy_model(fl_classifier2, X_train, y_train, X_test, y_test, \n",
    "                        plot_rules=True, print_rules=True, plot_partitions=True, return_rules=True)"
   ]
  },
  {
   "cell_type": "code",
   "execution_count": 10,
   "metadata": {},
   "outputs": [
    {
     "name": "stdout",
     "output_type": "stream",
     "text": [
      "None\n"
     ]
    }
   ],
   "source": [
    "print(fl_classifier2.classes_)"
   ]
  }
 ],
 "metadata": {
  "kernelspec": {
   "display_name": "datasci",
   "language": "python",
   "name": "python3"
  },
  "language_info": {
   "codemirror_mode": {
    "name": "ipython",
    "version": 3
   },
   "file_extension": ".py",
   "mimetype": "text/x-python",
   "name": "python",
   "nbconvert_exporter": "python",
   "pygments_lexer": "ipython3",
   "version": "3.11.3"
  }
 },
 "nbformat": 4,
 "nbformat_minor": 2
}
