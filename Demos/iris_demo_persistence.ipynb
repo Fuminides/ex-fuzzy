{
 "cells": [
  {
   "cell_type": "code",
   "execution_count": null,
   "metadata": {},
   "outputs": [],
   "source": [
    "import pandas as pd\n",
    "\n",
    "from sklearn import datasets\n",
    "from sklearn.model_selection import train_test_split\n",
    "\n",
    "import sys\n",
    "\n",
    "# In case you run this without installing the package, you need to add the path to the package\n",
    "\n",
    "# This is for launching from root folder path\n",
    "sys.path.append('./ex_fuzzy/')\n",
    "sys.path.append('./ex_fuzzy/ex_fuzzy/')\n",
    "\n",
    "# This is for launching from Demos folder\n",
    "sys.path.append('../ex_fuzzy/')\n",
    "sys.path.append('../ex_fuzzy/ex_fuzzy/')\n",
    "\n",
    "import ex_fuzzy.fuzzy_sets as fs\n",
    "import ex_fuzzy.evolutionary_fit as GA\n",
    "import ex_fuzzy.utils as  utils\n",
    "import ex_fuzzy.eval_tools as eval_tools\n",
    "import ex_fuzzy.persistence as persistence\n",
    "import ex_fuzzy.vis_rules as vis_rules"
   ]
  },
  {
   "cell_type": "code",
   "execution_count": null,
   "metadata": {},
   "outputs": [],
   "source": [
    "# Import some data to play with\n",
    "iris = datasets.load_iris()\n",
    "X = pd.DataFrame(iris.data, columns=iris.feature_names)\n",
    "y = iris.target\n",
    "\n",
    "# Split the data into a training set and a test set\n",
    "X_train, X_test, y_train, y_test = train_test_split(X, y, test_size=0.33, random_state=0)"
   ]
  },
  {
   "cell_type": "code",
   "execution_count": null,
   "metadata": {},
   "outputs": [],
   "source": [
    "fz_type_studied = fs.FUZZY_SETS.t1\n",
    "\n",
    "# Compute the fuzzy partitions using 3 quartiles\n",
    "precomputed_partitions = utils.construct_partitions(X, fz_type_studied)"
   ]
  },
  {
   "cell_type": "code",
   "execution_count": null,
   "metadata": {},
   "outputs": [],
   "source": [
    "fl_classifier = GA.BaseFuzzyRulesClassifier()\n",
    "fl_classifier.fit(X_train, y_train)\n",
    "\n",
    "str_rules = eval_tools.eval_fuzzy_model(fl_classifier, X_train, y_train, X_test, y_test, \n",
    "                        plot_rules=False, print_rules=True, plot_partitions=False, return_rules=True)\n",
    "\n",
    "with open('iris_rules.txt', 'w') as f:\n",
    "    f.write(str_rules)"
   ]
  },
  {
   "cell_type": "code",
   "execution_count": null,
   "metadata": {},
   "outputs": [],
   "source": [
    "# Load rules from a plain text file\n",
    "with open('iris_rules.txt', 'r') as f:\n",
    "    str_rules = f.read()\n",
    "\n",
    "# Persistence of the rules example\n",
    "mrule_base = persistence.load_fuzzy_rules(str_rules, precomputed_partitions)\n",
    "\n",
    "fl_classifier2 = GA.BaseFuzzyRulesClassifier(precomputed_rules=mrule_base)\n",
    "# fl_classifier2.load_master_rule_base(mrule_base) # (Another possibility)\n",
    "\n",
    "str_rules = eval_tools.eval_fuzzy_model(fl_classifier2, X_train, y_train, X_test, y_test, \n",
    "                        plot_rules=True, print_rules=True, plot_partitions=True, return_rules=True)\n",
    "\n",
    "print('Done')"
   ]
  }
 ],
 "metadata": {
  "language_info": {
   "name": "python"
  }
 },
 "nbformat": 4,
 "nbformat_minor": 2
}
