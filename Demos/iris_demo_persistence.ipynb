{
  "cells": [
    {
      "cell_type": "markdown",
      "id": "de6b78b7",
      "metadata": {},
      "source": [
        "# Saving and Loading rule bases with Ex-Fuzzy Demo\n",
        "\n",
        "This notebook demonstrates a classification computation example using T1 Fuzzy Sets (T1-FS) and shows how to optimize fuzzy rules using a genetic algorithm (GA) Then, we will save the classifier in a text file that we can reuse afterwards. \n",
        "\n",
        "#### Authors:\n",
        "* Javier Fumanal Idocin - University of Essex\n",
        "* Javier Andreu-Perez - University of Essex\n",
        "\n",
        "### Requirements\n",
        "To run this notebook, ensure you have the following packages installed:\n",
        "- `pandas`\n",
        "- `scikit-learn`\n",
        "- `ex_fuzzy` (a custom fuzzy logic package)\n"
      ]
    },
    {
      "cell_type": "code",
      "execution_count": 1,
      "id": "d8d90011",
      "metadata": {},
      "outputs": [],
      "source": [
        "# Import necessary libraries\n",
        "import pandas as pd\n",
        "from sklearn import datasets\n",
        "from sklearn.model_selection import train_test_split\n",
        "import sys\n"
      ]
    },
    {
      "cell_type": "markdown",
      "id": "94977232",
      "metadata": {},
      "source": [
        "### Setting Up Paths\n",
        "In case the custom fuzzy logic package (`ex_fuzzy`) is not installed, we add the path to the package manually, ensuring it can be accessed. We handle different possible directory structures."
      ]
    },
    {
      "cell_type": "code",
      "execution_count": 2,
      "id": "2e483586",
      "metadata": {},
      "outputs": [],
      "source": [
        "# Add paths to fuzzy logic package\n",
        "# Adjust paths as necessary\n",
        "sys.path.append('./ex_fuzzy/')\n",
        "sys.path.append('./ex_fuzzy/ex_fuzzy/')\n",
        "\n",
        "# For launching from a different folder structure (optional)\n",
        "sys.path.append('../ex_fuzzy/')\n",
        "sys.path.append('../ex_fuzzy/ex_fuzzy/')\n"
      ]
    },
    {
      "cell_type": "markdown",
      "id": "0aa2b96c",
      "metadata": {},
      "source": [
        "### Importing Custom Fuzzy Logic Modules\n",
        "Here we import several modules from the custom fuzzy logic package `ex_fuzzy`."
      ]
    },
    {
      "cell_type": "code",
      "execution_count": 3,
      "id": "2d3be065",
      "metadata": {},
      "outputs": [],
      "source": [
        "# Import custom fuzzy logic modules\n",
        "import ex_fuzzy.fuzzy_sets as fs\n",
        "import ex_fuzzy.evolutionary_fit as GA\n",
        "import ex_fuzzy.utils as utils\n",
        "import ex_fuzzy.eval_tools as eval_tools\n",
        "import ex_fuzzy.persistence as persistence\n",
        "import ex_fuzzy.vis_rules as vis_rules\n"
      ]
    },
    {
      "cell_type": "markdown",
      "id": "a1991985",
      "metadata": {},
      "source": [
        "### Loading the Iris Dataset\n",
        "We use the Iris dataset to demonstrate fuzzy set classification. The Iris dataset consists of three classes of iris plants, with 50 samples each, and four features."
      ]
    },
    {
      "cell_type": "code",
      "execution_count": 4,
      "id": "0ad07e8f",
      "metadata": {},
      "outputs": [],
      "source": [
        "# Load Iris dataset and convert it to a DataFrame\n",
        "iris = datasets.load_iris()\n",
        "X = pd.DataFrame(iris.data, columns=iris.feature_names)\n",
        "y = iris.target\n",
        "n_linguistic_variables = 5  # Define the number of linguistic variables\n"
      ]
    },
    {
      "cell_type": "markdown",
      "id": "dacf55d5",
      "metadata": {},
      "source": [
        "### Splitting Data into Training and Test Sets\n",
        "We split the data into a training set (67%) and a test set (33%) to evaluate the model's performance."
      ]
    },
    {
      "cell_type": "code",
      "execution_count": 5,
      "id": "0bdd043f",
      "metadata": {},
      "outputs": [],
      "source": [
        "# Split the dataset into training and test sets\n",
        "X_train, X_test, y_train, y_test = train_test_split(X, y, test_size=0.33, random_state=0)\n"
      ]
    },
    {
      "cell_type": "markdown",
      "id": "9009cab3",
      "metadata": {},
      "source": [
        "### Defining Fuzzy Sets\n",
        "We define T1 fuzzy sets and compute fuzzy partitions using the `construct_partitions` function. This generates fuzzy partitions for each feature in the dataset."
      ]
    },
    {
      "cell_type": "code",
      "execution_count": 6,
      "id": "f6dc60f9",
      "metadata": {},
      "outputs": [],
      "source": [
        "# Define the fuzzy set type and compute fuzzy partitions\n",
        "fz_type_studied = fs.FUZZY_SETS.t1  # T1 fuzzy sets\n",
        "precomputed_partitions = utils.construct_partitions(X, fz_type_studied, n_partitions=n_linguistic_variables)\n"
      ]
    },
    {
      "cell_type": "markdown",
      "id": "ac817da0",
      "metadata": {},
      "source": [
        "### Training a Fuzzy Rules Classifier\n",
        "We use the `BaseFuzzyRulesClassifier` class from the GA module to train a fuzzy rules classifier. The classifier is trained on the training set for 20 generations of genetic algorithm evolution."
      ]
    },
    {
      "cell_type": "code",
      "execution_count": 7,
      "id": "23e59b44",
      "metadata": {},
      "outputs": [],
      "source": [
        "# Train the fuzzy rules classifier\n",
        "fl_classifier = GA.BaseFuzzyRulesClassifier(nRules=10, \n",
        "                                           linguistic_variables=precomputed_partitions, \n",
        "                                           nAnts=3, \n",
        "                                           n_linguistic_variables=n_linguistic_variables, \n",
        "                                           fuzzy_type=fz_type_studied, \n",
        "                                           verbose=True, \n",
        "                                           tolerance=0.01, \n",
        "                                           runner=1, \n",
        "                                           ds_mode=2, \n",
        "                                           fuzzy_modifiers=False)\n",
        "fl_classifier.fit(X_train, y_train, n_gen=20)\n"
      ]
    },
    {
      "cell_type": "markdown",
      "id": "373e7e69",
      "metadata": {},
      "source": [
        "### Evaluating the Fuzzy Model\n",
        "We evaluate the performance of the fuzzy model and print the generated rules. The function `eval_fuzzy_model` is used for this evaluation."
      ]
    },
    {
      "cell_type": "code",
      "execution_count": 8,
      "id": "69105f15",
      "metadata": {},
      "outputs": [],
      "source": [
        "# Evaluate the trained fuzzy model\n",
        "str_rules = eval_tools.eval_fuzzy_model(fl_classifier, X_train, y_train, X_test, y_test, \n",
        "                                      plot_rules=False, \n",
        "                                      print_rules=True, \n",
        "                                      plot_partitions=False, \n",
        "                                      return_rules=True)\n"
      ]
    },
    {
      "cell_type": "markdown",
      "id": "88706899",
      "metadata": {},
      "source": [
        "### Saving Fuzzy Rules and Partitions\n",
        "The fuzzy rules and partitions are saved to plain text files for later use."
      ]
    },
    {
      "cell_type": "code",
      "execution_count": 9,
      "id": "df8dee8f",
      "metadata": {},
      "outputs": [],
      "source": [
        "# Save the generated fuzzy rules to a file\n",
        "with open('iris_rules.txt', 'w') as f:\n",
        "    f.write(str_rules)\n",
        "\n",
        "# Save the fuzzy partitions to a file\n",
        "with open('iris_partitions.txt', 'w') as f:\n",
        "    str_partitions = persistence.save_fuzzy_variables(precomputed_partitions)\n",
        "    f.write(str_partitions)\n"
      ]
    },
    {
      "cell_type": "markdown",
      "id": "e1a3ff69",
      "metadata": {},
      "source": [
        "### Loading Saved Rules and Partitions\n",
        "We load the previously saved rules and partitions from the text files, which can then be used to restore and evaluate the model."
      ]
    },
    {
      "cell_type": "code",
      "execution_count": 10,
      "id": "b8a95f65",
      "metadata": {},
      "outputs": [],
      "source": [
        "# Load the saved fuzzy rules from a file\n",
        "with open('iris_rules.txt', 'r') as f:\n",
        "    str_rules = f.read()\n",
        "\n",
        "# Load the saved fuzzy partitions from a file\n",
        "with open('iris_partitions.txt', 'r') as f:\n",
        "    loaded_partitions = persistence.load_fuzzy_variables(f.read())\n"
      ]
    },
    {
      "cell_type": "markdown",
      "id": "b0618383",
      "metadata": {},
      "source": [
        "### Persistence of the Fuzzy Model\n",
        "We can restore the master rule base from the saved rules and partitions. The restored model is then evaluated again."
      ]
    },
    {
      "cell_type": "code",
      "execution_count": 11,
      "id": "197d011e",
      "metadata": {},
      "outputs": [],
      "source": [
        "# Restore the master rule base from the loaded rules and partitions\n",
        "mrule_base = persistence.load_fuzzy_rules(str_rules, loaded_partitions)\n",
        "\n",
        "# Create a new fuzzy classifier using the restored rules\n",
        "fl_classifier2 = GA.BaseFuzzyRulesClassifier(precomputed_rules=mrule_base, ds_mode=2, allow_unknown=False)\n",
        "\n",
        "# Evaluate the restored fuzzy model\n",
        "str_rules = eval_tools.eval_fuzzy_model(fl_classifier2, X_train, y_train, X_test, y_test, \n",
        "                                      plot_rules=True, \n",
        "                                      print_rules=True, \n",
        "                                      plot_partitions=True, \n",
        "                                      return_rules=True)\n",
        "\n",
        "print('Done')\n"
      ]
    }
  ],
  "metadata": {
    "kernelspec": {
      "display_name": "Python 3",
      "language": "python",
      "name": "python3"
    },
    "language_info": {
      "codemirror_mode": {
        "name": "ipython",
        "version": 3
      },
      "file_extension": ".py",
      "mimetype": "text/x-python",
      "name": "python",
      "nbconvert_exporter": "python",
      "pygments_lexer": "ipython3",
      "version": "3.9.7"
    }
  },
  "nbformat": 4,
  "nbformat_minor": 5
}
