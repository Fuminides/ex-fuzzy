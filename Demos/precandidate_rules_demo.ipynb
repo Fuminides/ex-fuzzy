{
 "cells": [
  {
   "cell_type": "code",
   "execution_count": 1,
   "metadata": {},
   "outputs": [],
   "source": [
    "import pandas as pd\n",
    "\n",
    "from sklearn import datasets\n",
    "from sklearn.model_selection import train_test_split\n",
    "\n",
    "import sys\n",
    "\n",
    "# In case you run this without installing the package, you need to add the path to the package\n",
    "\n",
    "# This is for launching from root folder path\n",
    "sys.path.append('./ex_fuzzy/')\n",
    "sys.path.append('./ex_fuzzy/ex_fuzzy/')\n",
    "\n",
    "# This is for launching from Demos folder\n",
    "sys.path.append('../ex_fuzzy/')\n",
    "sys.path.append('../ex_fuzzy/ex_fuzzy/')\n",
    "\n",
    "\n",
    "import ex_fuzzy.fuzzy_sets as fs\n",
    "import ex_fuzzy.evolutionary_fit as GA\n",
    "import ex_fuzzy.utils as  utils\n",
    "import ex_fuzzy.eval_tools as eval_tools\n",
    "import ex_fuzzy.persistence as persistence\n",
    "import ex_fuzzy.vis_rules as vis_rules"
   ]
  },
  {
   "cell_type": "code",
   "execution_count": 2,
   "metadata": {},
   "outputs": [],
   "source": [
    "runner = 1 # 1: single thread, 2+: corresponding multi-thread\n",
    "\n",
    "n_gen = 50\n",
    "n_pop = 30\n",
    "    \n",
    "nRules = 15\n",
    "nAnts = 4\n",
    "vl = 3\n",
    "tolerance = 0.01\n",
    "fz_type_studied = fs.FUZZY_SETS.t1"
   ]
  },
  {
   "cell_type": "code",
   "execution_count": 3,
   "metadata": {},
   "outputs": [],
   "source": [
    "# Import some data to play with\n",
    "iris = datasets.load_iris()\n",
    "X = pd.DataFrame(iris.data, columns=iris.feature_names)\n",
    "y = iris.target\n",
    "\n",
    "# Split the data into a training set and a test set\n",
    "X_train, X_test, y_train, y_test = train_test_split(X, y, test_size=0.33, random_state=0)"
   ]
  },
  {
   "cell_type": "code",
   "execution_count": 4,
   "metadata": {},
   "outputs": [],
   "source": [
    "# Compute the fuzzy partitions using 3 quartiles\n",
    "precomputed_partitions = utils.construct_partitions(X, fz_type_studied)"
   ]
  },
  {
   "cell_type": "code",
   "execution_count": 5,
   "metadata": {},
   "outputs": [
    {
     "name": "stdout",
     "output_type": "stream",
     "text": [
      "=================================================\n",
      "n_gen  |  n_eval  |     f_avg     |     f_min    \n",
      "=================================================\n",
      "     1 |       30 |  0.8401278271 |  0.5259302110\n",
      "     2 |       60 |  0.6527024856 |  0.5187005400\n",
      "     3 |       90 |  0.5762599673 |  0.4073096971\n",
      "     4 |      120 |  0.5315823895 |  0.4073096971\n",
      "     5 |      150 |  0.5123477777 |  0.4073096971\n",
      "     6 |      180 |  0.4937815455 |  0.4073096971\n",
      "     7 |      210 |  0.4565437908 |  0.4073096971\n",
      "     8 |      240 |  0.4112181013 |  0.4073096971\n",
      "     9 |      270 |  0.4073096971 |  0.4073096971\n",
      "    10 |      300 |  0.4073096971 |  0.4073096971\n",
      "    11 |      330 |  0.4073096971 |  0.4073096971\n",
      "    12 |      360 |  0.4068649003 |  0.3939657925\n",
      "    13 |      390 |  0.4050857130 |  0.3939657925\n",
      "    14 |      420 |  0.4007377939 |  0.3939657925\n",
      "    15 |      450 |  0.3939657925 |  0.3939657925\n",
      "    16 |      480 |  0.3939657925 |  0.3939657925\n",
      "    17 |      510 |  0.3916942112 |  0.3258183533\n",
      "    18 |      540 |  0.3848794672 |  0.3258183533\n",
      "    19 |      570 |  0.3617597553 |  0.3137013865\n",
      "    20 |      600 |  0.3246066566 |  0.3137013865\n",
      "    21 |      630 |  0.3221832633 |  0.3137013865\n",
      "    22 |      660 |  0.3161247799 |  0.3137013865\n",
      "    23 |      690 |  0.3137013865 |  0.3137013865\n",
      "    24 |      720 |  0.3137013865 |  0.3137013865\n",
      "    25 |      750 |  0.3137013865 |  0.3137013865\n",
      "    26 |      780 |  0.3137013865 |  0.3137013865\n",
      "    27 |      810 |  0.3137013865 |  0.3137013865\n",
      "    28 |      840 |  0.3137013865 |  0.3137013865\n",
      "    29 |      870 |  0.3137013865 |  0.3137013865\n",
      "    30 |      900 |  0.3137013865 |  0.3137013865\n",
      "    31 |      930 |  0.3137013865 |  0.3137013865\n",
      "    32 |      960 |  0.3137013865 |  0.3137013865\n",
      "    33 |      990 |  0.3137013865 |  0.3137013865\n",
      "    34 |     1020 |  0.3137013865 |  0.3137013865\n",
      "    35 |     1050 |  0.3137013865 |  0.3137013865\n",
      "    36 |     1080 |  0.3137013865 |  0.3137013865\n",
      "    37 |     1110 |  0.3137013865 |  0.3137013865\n",
      "    38 |     1140 |  0.3137013865 |  0.3137013865\n",
      "    39 |     1170 |  0.3137013865 |  0.3137013865\n",
      "    40 |     1200 |  0.3137013865 |  0.3137013865\n",
      "    41 |     1230 |  0.3137013865 |  0.3137013865\n",
      "    42 |     1260 |  0.3137013865 |  0.3137013865\n",
      "    43 |     1290 |  0.3137013865 |  0.3137013865\n",
      "    44 |     1320 |  0.3137013865 |  0.3137013865\n",
      "    45 |     1350 |  0.3137013865 |  0.3137013865\n",
      "    46 |     1380 |  0.3137013865 |  0.3137013865\n",
      "    47 |     1410 |  0.3137013865 |  0.3137013865\n",
      "    48 |     1440 |  0.3137013865 |  0.3137013865\n",
      "    49 |     1470 |  0.3137013865 |  0.3137013865\n",
      "    50 |     1500 |  0.3137013865 |  0.3137013865\n",
      "------------\n",
      "ACCURACY\n",
      "Train performance: 0.72\n",
      "Test performance: 0.76\n",
      "------------\n",
      "MATTHEW CORRCOEF\n",
      "Train performance: 0.6357858494852648\n",
      "Test performance: 0.6643994991958752\n",
      "------------\n",
      "Rules for consequent: 0\n",
      "----------------\n",
      "IF sepal width (cm) IS High AND petal length (cm) IS Low WITH DS 0.702673796791444, ACC 1.0\n",
      "\n",
      "Rules for consequent: 1\n",
      "----------------\n",
      "IF petal width (cm) IS Medium WITH DS 0.8373158104340899, ACC 0.6\n",
      "IF petal length (cm) IS Medium WITH DS 0.8498017751239918, ACC 0.8484848484848485\n",
      "\n",
      "Rules for consequent: 2\n",
      "----------------\n",
      "IF sepal width (cm) IS Low WITH DS 0.1417233560090703, ACC 0.8888888888888888\n",
      "\n",
      "\n"
     ]
    }
   ],
   "source": [
    "# We create a FRBC with the precomputed partitions and the specified fuzzy set type, \n",
    "fl_classifier = GA.BaseFuzzyRulesClassifier(nRules=nRules, linguistic_variables=precomputed_partitions, nAnts=nAnts, \n",
    "                                            n_linguistic_variables=vl, fuzzy_type=fz_type_studied, verbose=True, tolerance=tolerance, runner=runner)\n",
    "fl_classifier.fit(X_train, y_train, n_gen=n_gen, pop_size=n_pop, checkpoints=0)\n",
    "\n",
    "# Evaluate the performance of the rule base\n",
    "eval_tools.eval_fuzzy_model(fl_classifier, X_train, y_train, X_test, y_test, \n",
    "                        plot_rules=False, print_rules=True, plot_partitions=False)"
   ]
  },
  {
   "cell_type": "code",
   "execution_count": 6,
   "metadata": {},
   "outputs": [
    {
     "name": "stdout",
     "output_type": "stream",
     "text": [
      "------------\n",
      "ACCURACY\n",
      "Train performance: 0.72\n",
      "Test performance: 0.76\n",
      "------------\n",
      "MATTHEW CORRCOEF\n",
      "Train performance: 0.6357858494852648\n",
      "Test performance: 0.6643994991958752\n",
      "------------\n",
      "Rules for consequent: 0\n",
      "----------------\n",
      "IF sepal width (cm) IS High AND petal length (cm) IS Low WITH DS 0.702673796791444, ACC 1.0\n",
      "\n",
      "Rules for consequent: 1\n",
      "----------------\n",
      "IF petal width (cm) IS Medium WITH DS 0.8373158104340899, ACC 0.6\n",
      "IF petal length (cm) IS Medium WITH DS 0.8498017751239918, ACC 0.8484848484848485\n",
      "\n",
      "Rules for consequent: 2\n",
      "----------------\n",
      "IF sepal width (cm) IS Low WITH DS 0.1417233560090703, ACC 0.8888888888888888\n",
      "\n",
      "\n"
     ]
    }
   ],
   "source": [
    "# Use the rule base as a candidate to further optimize the rules\n",
    "frbc = fl_classifier.rule_base\n",
    "\n",
    "refined_classifier = GA.BaseFuzzyRulesClassifier(verbose=False, tolerance=tolerance, runner=runner, linguistic_variables=None)\n",
    "refined_classifier.fit(X_train, y_train, n_gen=n_gen, pop_size=n_pop, checkpoints=0, initial_rules=frbc)\n",
    "\n",
    "# Evaluate the performance of the rule base\n",
    "eval_tools.eval_fuzzy_model(fl_classifier, X_train, y_train, X_test, y_test, \n",
    "                        plot_rules=False, print_rules=True, plot_partitions=False)"
   ]
  }
 ],
 "metadata": {
  "kernelspec": {
   "display_name": "datasci",
   "language": "python",
   "name": "python3"
  },
  "language_info": {
   "codemirror_mode": {
    "name": "ipython",
    "version": 3
   },
   "file_extension": ".py",
   "mimetype": "text/x-python",
   "name": "python",
   "nbconvert_exporter": "python",
   "pygments_lexer": "ipython3",
   "version": "3.11.3"
  }
 },
 "nbformat": 4,
 "nbformat_minor": 2
}
