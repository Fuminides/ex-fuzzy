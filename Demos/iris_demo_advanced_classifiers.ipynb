{
 "cells": [
  {
   "cell_type": "code",
   "execution_count": 1,
   "metadata": {},
   "outputs": [],
   "source": [
    "import pandas as pd\n",
    "\n",
    "from sklearn import datasets\n",
    "from sklearn.model_selection import train_test_split\n",
    "\n",
    "import sys\n",
    "\n",
    "# In case you run this without installing the package, you need to add the path to the package\n",
    "\n",
    "# This is for launching from root folder path\n",
    "sys.path.append('./ex_fuzzy/')\n",
    "sys.path.append('./ex_fuzzy/ex_fuzzy/')\n",
    "\n",
    "# This is for launching from this path\n",
    "sys.path.append('../ex_fuzzy/')\n",
    "sys.path.append('../ex_fuzzy/ex_fuzzy/')\n",
    "\n",
    "import ex_fuzzy.fuzzy_sets as fs\n",
    "import ex_fuzzy.evolutionary_fit as GA\n",
    "import ex_fuzzy.utils as  utils\n",
    "import ex_fuzzy.eval_tools as eval_tools\n",
    "import ex_fuzzy.persistence as persistence\n",
    "import ex_fuzzy.vis_rules as vis_rules\n",
    "import ex_fuzzy.classifiers as classifiers"
   ]
  },
  {
   "cell_type": "code",
   "execution_count": 2,
   "metadata": {},
   "outputs": [],
   "source": [
    "threads = 1 # 1: single thread, 2+: corresponding multi-thread\n",
    "\n",
    "n_gen = 100\n",
    "n_pop = 50\n",
    "    \n",
    "nRules = 15\n",
    "nAnts = 4\n",
    "vl = 3\n",
    "tolerance = 0.1\n",
    "fz_type_studied = fs.FUZZY_SETS.t1"
   ]
  },
  {
   "cell_type": "code",
   "execution_count": 3,
   "metadata": {},
   "outputs": [],
   "source": [
    "# Import some data to play with\n",
    "iris = datasets.load_iris()\n",
    "X = pd.DataFrame(iris.data, columns=iris.feature_names)\n",
    "y = iris.target"
   ]
  },
  {
   "cell_type": "code",
   "execution_count": 4,
   "metadata": {},
   "outputs": [],
   "source": [
    "# Compute the fuzzy partitions using 3 quartiles\n",
    "precomputed_partitions = utils.construct_partitions(X, fz_type_studied)"
   ]
  },
  {
   "cell_type": "code",
   "execution_count": 5,
   "metadata": {},
   "outputs": [],
   "source": [
    "# Split the data into a training set and a test set\n",
    "X_train, X_test, y_train, y_test = train_test_split(X, y, test_size=0.33, random_state=0)"
   ]
  },
  {
   "cell_type": "code",
   "execution_count": 6,
   "metadata": {},
   "outputs": [
    {
     "name": "stdout",
     "output_type": "stream",
     "text": [
      "------------\n",
      "ACCURACY\n",
      "Train performance: 0.49\n",
      "Test performance: 0.52\n",
      "------------\n",
      "MATTHEW CORRCOEF\n",
      "Train performance: 0.2544700637085697\n",
      "Test performance: 0.32122546788042305\n",
      "------------\n",
      "Rules for consequent: 0\n",
      "----------------\n",
      "IF petal length (cm) IS Low WITH DS 0.29981335945528487, ACC 0.9\n",
      "IF sepal length (cm) IS Low AND petal length (cm) IS Low WITH DS 0.34128893691752055, ACC 0.96\n",
      "\n",
      "Rules for consequent: 1\n",
      "----------------\n",
      "IF sepal length (cm) IS Medium AND petal length (cm) IS Low WITH DS 0.4151914276869605, ACC 1.0\n",
      "\n",
      "Rules for consequent: 2\n",
      "----------------\n",
      "IF sepal length (cm) IS Medium WITH DS 0.11383112231523673, ACC 0.6666666666666666\n",
      "IF sepal width (cm) IS Medium WITH DS 0.25540821820169735, ACC 0.6470588235294118\n",
      "\n",
      "\n"
     ]
    }
   ],
   "source": [
    "# Create the RuleMine classifier\n",
    "fl_classifier = classifiers.RuleMineClassifier(nRules=nRules, nAnts=nAnts, fuzzy_type=fz_type_studied, linguistic_variables=precomputed_partitions,\n",
    "                                               verbose=False, tolerance=tolerance, runner=threads)\n",
    "fl_classifier.fit(X_train, y_train, n_gen=n_gen, pop_size=n_pop)\n",
    "\n",
    "str_rules = eval_tools.eval_fuzzy_model(fl_classifier.internal_classifier(), X_train, y_train, X_test, y_test, \n",
    "                        plot_rules=False, print_rules=True, plot_partitions=False, return_rules=True)"
   ]
  },
  {
   "cell_type": "code",
   "execution_count": 7,
   "metadata": {},
   "outputs": [
    {
     "name": "stdout",
     "output_type": "stream",
     "text": [
      "------------\n",
      "ACCURACY\n",
      "Train performance: 0.93\n",
      "Test performance: 0.86\n",
      "------------\n",
      "MATTHEW CORRCOEF\n",
      "Train performance: 0.9005284351280619\n",
      "Test performance: 0.804594672773046\n",
      "------------\n",
      "Rules for consequent: 0\n",
      "----------------\n",
      "IF petal length (cm) IS Low WITH DS 0.6666666666666666, ACC 1.0\n",
      "\n",
      "Rules for consequent: 1\n",
      "----------------\n",
      "IF petal length (cm) IS Medium AND petal width (cm) IS Medium WITH DS 0.8157894736842105, ACC 0.8157894736842105\n",
      "\n",
      "Rules for consequent: 2\n",
      "----------------\n",
      "IF petal length (cm) IS High WITH DS 0.7142857142857143, ACC 1.0\n",
      "\n",
      "\n"
     ]
    }
   ],
   "source": [
    "# Create the FuzzyRules classifier\n",
    "fl_classifier = classifiers.FuzzyRulesClassifier(nRules=nRules, nAnts=nAnts, fuzzy_type=fz_type_studied, linguistic_variables=precomputed_partitions,\n",
    "                                               verbose=False, tolerance=tolerance, runner=threads)\n",
    "fl_classifier.fit(X_train, y_train, n_gen=n_gen, pop_size=n_pop)\n",
    "\n",
    "str_rules = eval_tools.eval_fuzzy_model(fl_classifier.internal_classifier(), X_train, y_train, X_test, y_test, \n",
    "                        plot_rules=False, print_rules=True, plot_partitions=False, return_rules=True)"
   ]
  },
  {
   "cell_type": "code",
   "execution_count": 8,
   "metadata": {},
   "outputs": [
    {
     "name": "stdout",
     "output_type": "stream",
     "text": [
      "------------\n",
      "ACCURACY\n",
      "Train performance: 0.66\n",
      "Test performance: 0.62\n",
      "------------\n",
      "MATTHEW CORRCOEF\n",
      "Train performance: 0.5279003616814301\n",
      "Test performance: 0.5048581155187226\n",
      "------------\n",
      "Rules for consequent: 0\n",
      "----------------\n",
      "IF sepal width (cm) IS Medium AND petal length (cm) IS Low WITH DS 0.31512605042016806, ACC 0.43243243243243246\n",
      "\n",
      "Rules for consequent: 1\n",
      "----------------\n",
      "IF sepal length (cm) IS Medium AND sepal width (cm) IS Low AND petal length (cm) IS Low WITH DS 0.20315363996689687, ACC 1.0\n",
      "\n",
      "Rules for consequent: 2\n",
      "----------------\n",
      "IF sepal width (cm) IS Medium WITH DS 0.26091644204851755, ACC 0.6875\n",
      "\n",
      "\n"
     ]
    }
   ],
   "source": [
    "# Create the RuleFineTuneClassifier classifier\n",
    "fl_classifier = classifiers.RuleFineTuneClassifier(nRules=nRules, nAnts=nAnts, fuzzy_type=fz_type_studied, linguistic_variables=precomputed_partitions,\n",
    "                                               verbose=False, tolerance=tolerance, runner=threads)\n",
    "fl_classifier.fit(X_train, y_train, n_gen=n_gen, pop_size=n_pop)\n",
    "\n",
    "str_rules = eval_tools.eval_fuzzy_model(fl_classifier.internal_classifier(), X_train, y_train, X_test, y_test, \n",
    "                        plot_rules=False, print_rules=True, plot_partitions=False, return_rules=True)"
   ]
  }
 ],
 "metadata": {
  "kernelspec": {
   "display_name": "datasci",
   "language": "python",
   "name": "python3"
  },
  "language_info": {
   "codemirror_mode": {
    "name": "ipython",
    "version": 3
   },
   "file_extension": ".py",
   "mimetype": "text/x-python",
   "name": "python",
   "nbconvert_exporter": "python",
   "pygments_lexer": "ipython3",
   "version": "3.11.3"
  }
 },
 "nbformat": 4,
 "nbformat_minor": 2
}
